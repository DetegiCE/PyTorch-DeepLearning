{
 "cells": [
  {
   "cell_type": "code",
   "execution_count": 1,
   "metadata": {},
   "outputs": [],
   "source": [
    "import torch\n",
    "import torch.nn as nn"
   ]
  },
  {
   "cell_type": "code",
   "execution_count": 2,
   "metadata": {},
   "outputs": [
    {
     "data": {
      "text/plain": [
       "'\\nnn.Sequential\\n순차적으로 인수를 전달\\nMy_neuralnet = nn.Sequential(op1, op2, ...)\\n'"
      ]
     },
     "execution_count": 2,
     "metadata": {},
     "output_type": "execute_result"
    }
   ],
   "source": [
    "'''\n",
    "nn.Sequential\n",
    "순차적으로 인수를 전달\n",
    "My_neuralnet = nn.Sequential(op1, op2, ...)\n",
    "'''"
   ]
  },
  {
   "cell_type": "code",
   "execution_count": 3,
   "metadata": {},
   "outputs": [
    {
     "data": {
      "text/plain": [
       "'\\nnn.Linear\\nin_features와 out_features 두 개의 인수를 가짐\\n각각 입력의 크기와 출력의 크기를 나타냄\\nnn.Linear(in_features=3, out_features=2) 라면 [w11, w12, w13], [w21, w22, w23] 두 개의 벡터를 생성함.\\n'"
      ]
     },
     "execution_count": 3,
     "metadata": {},
     "output_type": "execute_result"
    }
   ],
   "source": [
    "'''\n",
    "nn.Linear\n",
    "in_features와 out_features 두 개의 인수를 가짐\n",
    "각각 입력의 크기와 출력의 크기를 나타냄\n",
    "nn.Linear(in_features=3, out_features=2) 라면 [w11, w12, w13], [w21, w22, w23] 두 개의 벡터를 생성함.\n",
    "'''"
   ]
  },
  {
   "cell_type": "code",
   "execution_count": 4,
   "metadata": {},
   "outputs": [
    {
     "data": {
      "text/plain": [
       "'\\nnn.ReLU()\\nReLU : 정류선형유닛. 특, 비선형임\\n'"
      ]
     },
     "execution_count": 4,
     "metadata": {},
     "output_type": "execute_result"
    }
   ],
   "source": [
    "'''\n",
    "nn.ReLU()\n",
    "ReLU : 정류선형유닛. 특, 비선형임\n",
    "'''"
   ]
  },
  {
   "cell_type": "code",
   "execution_count": null,
   "metadata": {},
   "outputs": [],
   "source": [
    "'''\n",
    "nn.Sigmoid()\n",
    "예측 결과를 얻기 위해 0과 1 사이의 출력을 곱해야 함\n",
    "'''"
   ]
  }
 ],
 "metadata": {
  "kernelspec": {
   "display_name": "Python 3",
   "language": "python",
   "name": "python3"
  },
  "language_info": {
   "codemirror_mode": {
    "name": "ipython",
    "version": 3
   },
   "file_extension": ".py",
   "mimetype": "text/x-python",
   "name": "python",
   "nbconvert_exporter": "python",
   "pygments_lexer": "ipython3",
   "version": "3.8.5"
  }
 },
 "nbformat": 4,
 "nbformat_minor": 4
}
