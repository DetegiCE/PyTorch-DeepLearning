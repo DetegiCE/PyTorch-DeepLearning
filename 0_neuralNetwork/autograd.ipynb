{
 "cells": [
  {
   "cell_type": "code",
   "execution_count": 3,
   "metadata": {},
   "outputs": [
    {
     "name": "stdout",
     "output_type": "stream",
     "text": [
      "cpu\n"
     ]
    }
   ],
   "source": [
    "import torch\n",
    "\n",
    "if torch.cuda.is_available():\n",
    "    DEVICE = torch.device('cuda')\n",
    "    print('cuda')\n",
    "else:\n",
    "    DEVICE = torch.device('cpu')\n",
    "    print('cpu')"
   ]
  },
  {
   "cell_type": "code",
   "execution_count": 4,
   "metadata": {},
   "outputs": [],
   "source": [
    "BATCH_SIZE = 64 #DL 모델에서 파라미터를 업데이트할 때 계산되는 데이터의 개수\n",
    "INPUT_SIZE = 1000 #DL 모델에서 input의 크기이자 입력층의 노드의 개수\n",
    "HIDDEN_SIZE = 100 #DL 모델에서 input을 다수의 인수를 이용해 계산한 결과에 한 번 더 계산되는 인수의 개수\n",
    "OUTPUT_SIZE = 10 #DL 모델에서 최종적으로 출력되는 값의 벡터의 크기 "
   ]
  },
  {
   "cell_type": "code",
   "execution_count": 5,
   "metadata": {},
   "outputs": [],
   "source": [
    "x = torch.randn(BATCH_SIZE,\n",
    "                INPUT_SIZE,\n",
    "                device = DEVICE,\n",
    "                requires_grad = False) #1000짜리의 벡터를 64개 만듬\n",
    "y = torch.randn(BATCH_SIZE,\n",
    "                OUTPUT_SIZE,\n",
    "                device = DEVICE,\n",
    "                requires_grad = False) #input과 동일하게 설정\n",
    "w1 = torch.randn(INPUT_SIZE,\n",
    "                 HIDDEN_SIZE,\n",
    "                 device = DEVICE,\n",
    "                 dtype = torch.float,\n",
    "                 requires_grad = True)\n",
    "w2 = torch.randn(HIDDEN_SIZE,\n",
    "                 OUTPUT_SIZE,\n",
    "                 device = DEVICE,\n",
    "                 dtype = torch.float,\n",
    "                 requires_grad = True)"
   ]
  },
  {
   "cell_type": "code",
   "execution_count": 7,
   "metadata": {},
   "outputs": [
    {
     "name": "stdout",
     "output_type": "stream",
     "text": [
      "Iteration:  100 \tLoss:  263.2936706542969\n",
      "Iteration:  200 \tLoss:  0.6469058990478516\n",
      "Iteration:  300 \tLoss:  0.0032673277892172337\n",
      "Iteration:  400 \tLoss:  0.00011347668623784557\n",
      "Iteration:  500 \tLoss:  2.4201686755986884e-05\n"
     ]
    }
   ],
   "source": [
    "learning_rate = 1e-6\n",
    "for t in range(1, 501): # 총 500번 반복해 파라미터 값을 업데이트 함\n",
    "    y_pred = x.mm(w1).clamp(min=0).mm(w2) #예측 값 설정 (clamp 메서드를 이용해 비선형 함수 적용)\n",
    "    \n",
    "    loss = (y_pred - y).pow(2).sum() #예측 값과 실제 레이블 값을 비교해 오차를 계산한 값\n",
    "    if t % 100 == 0:\n",
    "        print(\"Iteration: \", t, \"\\tLoss: \", loss.item())\n",
    "    loss.backward() #각 인수에 대해 gradient를 계산하고 이를 통해 back propagation을 진행\n",
    "        \n",
    "    with torch.no_grad():\n",
    "        w1 -= learning_rate * w1.grad\n",
    "        w2 -= learning_rate * w2.grad\n",
    "        \n",
    "        \n",
    "        w1.grad.zero_()\n",
    "        w2.grad.zero_()"
   ]
  },
  {
   "cell_type": "code",
   "execution_count": null,
   "metadata": {},
   "outputs": [],
   "source": []
  }
 ],
 "metadata": {
  "kernelspec": {
   "display_name": "Python 3",
   "language": "python",
   "name": "python3"
  },
  "language_info": {
   "codemirror_mode": {
    "name": "ipython",
    "version": 3
   },
   "file_extension": ".py",
   "mimetype": "text/x-python",
   "name": "python",
   "nbconvert_exporter": "python",
   "pygments_lexer": "ipython3",
   "version": "3.8.5"
  }
 },
 "nbformat": 4,
 "nbformat_minor": 4
}
