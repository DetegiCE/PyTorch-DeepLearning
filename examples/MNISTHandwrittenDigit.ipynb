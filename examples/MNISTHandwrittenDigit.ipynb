{
 "cells": [
  {
   "cell_type": "code",
   "execution_count": 3,
   "metadata": {},
   "outputs": [],
   "source": [
    "#module import\n",
    "import numpy as np\n",
    "import matplotlib.pyplot as plt\n",
    "import torch\n",
    "import torch.nn as nn\n",
    "import torch.nn.functional as F\n",
    "from torchvision import transforms, datasets"
   ]
  },
  {
   "cell_type": "code",
   "execution_count": 4,
   "metadata": {},
   "outputs": [
    {
     "name": "stdout",
     "output_type": "stream",
     "text": [
      "Using PyTorch Version: 1.6.0  Device: cpu\n"
     ]
    }
   ],
   "source": [
    "#device check\n",
    "if torch.cuda.is_available():\n",
    "    DEVICE = torch.device('cuda')\n",
    "else:\n",
    "    DEVICE = torch.device('cpu')\n",
    "    \n",
    "print('Using PyTorch Version:', torch.__version__, ' Device:', DEVICE)"
   ]
  },
  {
   "cell_type": "code",
   "execution_count": 5,
   "metadata": {},
   "outputs": [],
   "source": [
    "BATCH_SIZE = 32\n",
    "EPOCHS = 10"
   ]
  },
  {
   "cell_type": "code",
   "execution_count": 6,
   "metadata": {},
   "outputs": [
    {
     "name": "stdout",
     "output_type": "stream",
     "text": [
      "Downloading http://yann.lecun.com/exdb/mnist/train-images-idx3-ubyte.gz\n",
      "Downloading http://yann.lecun.com/exdb/mnist/train-labels-idx1-ubyte.gz\n",
      "Downloading http://yann.lecun.com/exdb/mnist/t10k-images-idx3-ubyte.gz\n",
      "Downloading http://yann.lecun.com/exdb/mnist/t10k-labels-idx1-ubyte.gz\n",
      "Processing...\n",
      "Done!\n"
     ]
    },
    {
     "name": "stderr",
     "output_type": "stream",
     "text": [
      "/Users/rbk/opt/anaconda3/lib/python3.8/site-packages/torchvision/datasets/mnist.py:299: UserWarning: The given NumPy array is not writeable, and PyTorch does not support non-writeable tensors. This means you can write to the underlying (supposedly non-writeable) NumPy array using the tensor. You may want to copy the array to protect its data or make it writeable before converting it to a tensor. This type of warning will be suppressed for the rest of this program. (Triggered internally at  /tmp/pip-req-build-as628lz5/torch/csrc/utils/tensor_numpy.cpp:141.)\n",
      "  return torch.from_numpy(parsed).view(length, num_rows, num_cols)\n"
     ]
    }
   ],
   "source": [
    "train_dataset = datasets.MNIST(root = '../data/MNIST',\n",
    "                               train = True,\n",
    "                               download = True,\n",
    "                               transform = transforms.ToTensor());\n",
    "test_dataset = datasets.MNIST(root = '../data/MNIST',\n",
    "                              train = False,\n",
    "                              transform = transforms.ToTensor());"
   ]
  },
  {
   "cell_type": "code",
   "execution_count": 7,
   "metadata": {},
   "outputs": [],
   "source": [
    "train_loader = torch.utils.data.DataLoader(dataset = train_dataset,\n",
    "                                           batch_size = BATCH_SIZE,\n",
    "                                           shuffle = True)\n",
    "test_loader = torch.utils.data.DataLoader(dataset = test_dataset,\n",
    "                                          batch_size = BATCH_SIZE,\n",
    "                                          shuffle = False)"
   ]
  },
  {
   "cell_type": "code",
   "execution_count": 8,
   "metadata": {},
   "outputs": [
    {
     "name": "stdout",
     "output_type": "stream",
     "text": [
      "x_train: torch.Size([32, 1, 28, 28])  type: torch.FloatTensor\n",
      "x_train: torch.Size([32])  type: torch.LongTensor\n"
     ]
    }
   ],
   "source": [
    "#mini-batch 단위로 할당된 데이터의 개수와 형태를 확인\n",
    "for(x_train, y_train) in train_loader:\n",
    "    print('x_train:', x_train.size(), ' type:', x_train.type())\n",
    "    print('x_train:', y_train.size(), ' type:', y_train.type())\n",
    "    break"
   ]
  },
  {
   "cell_type": "code",
   "execution_count": 9,
   "metadata": {},
   "outputs": [
    {
     "data": {
      "image/png": "[encoded data removed]",
      "text/plain": [
       "<Figure size 720x72 with 10 Axes>"
      ]
     },
     "metadata": {
      "needs_background": "light"
     },
     "output_type": "display_data"
    }
   ],
   "source": [
    "pltsize = 1\n",
    "plt.figure(figsize=(10 * pltsize, pltsize))\n",
    "for i in range(10):\n",
    "    plt.subplot(1, 10, i+1)\n",
    "    plt.axis('off')\n",
    "    plt.imshow(x_train[i, :, :, :].numpy().reshape(28, 28), cmap = 'gray_r')\n",
    "    plt.title('Class: '+str(y_train[i].item()))"
   ]
  },
  {
   "cell_type": "code",
   "execution_count": 10,
   "metadata": {},
   "outputs": [],
   "source": [
    "#MLP model 설계\n",
    "class Net(nn.Module):\n",
    "    def __init__(self):\n",
    "        super(Net, self).__init__()\n",
    "        self.fc1 = nn.Linear(28*28, 512)\n",
    "        self.fc2 = nn.Linear(512, 256)\n",
    "        self.fc3 = nn.Linear(256, 10)\n",
    "    def forward(self, x): #Forward Propagation 정의\n",
    "        x = x.view(-1, 28*28)\n",
    "        x = self.fc1(x)\n",
    "        x = F.sigmoid(x)\n",
    "        x = self.fc2(x)\n",
    "        x = F.sigmoid(x)\n",
    "        x = self.fc3(x)\n",
    "        x = F.log_softmax(x, dim=1) #softmax를 이용해 최종 결과 값을 계산. log를 사용하는 이유는 loss gradient 값의 원활한 계산을 위해서\n",
    "        return x"
   ]
  },
  {
   "cell_type": "code",
   "execution_count": 11,
   "metadata": {},
   "outputs": [
    {
     "name": "stdout",
     "output_type": "stream",
     "text": [
      "Net(\n",
      "  (fc1): Linear(in_features=784, out_features=512, bias=True)\n",
      "  (fc2): Linear(in_features=512, out_features=256, bias=True)\n",
      "  (fc3): Linear(in_features=256, out_features=10, bias=True)\n",
      ")\n"
     ]
    }
   ],
   "source": [
    "model = Net().to(DEVICE)\n",
    "#Back Propagation을 이용해 파라미터를 업데이트 할 때 이용하는 optimizer\n",
    "#Stochastic Gradient Descent 알고리즘을 이용\n",
    "optimizer = torch.optim.SGD(model.parameters(), lr = 0.01, momentum = 0.5)\n",
    "criterion = nn.CrossEntropyLoss()\n",
    "\n",
    "print(model)"
   ]
  },
  {
   "cell_type": "code",
   "execution_count": 12,
   "metadata": {},
   "outputs": [],
   "source": [
    "#MLP 모델 학습을 진행하며 학습 데이터에 대한 모델 성능 확인\n",
    "def train(model, train_loader, optimizer, log_interval):\n",
    "    model.train() #기존에 정의한 MLP 모델을 학습 상태로 지정\n",
    "    for batch_idx, (image, label) in enumerate(train_loader):\n",
    "        image = image.to(DEVICE)\n",
    "        label = label.to(DEVICE)\n",
    "        optimizer.zero_grad() #optimizer의 gradient 초기화\n",
    "        output = model(image)\n",
    "        loss = criterion(output, label) #cross entropy 이용해 loss 값 계산\n",
    "        loss.backward() #계산된 loss 값을 바탕으로 back propagation을 통해 계산된 gradient 값을 각 파라미터에 할당\n",
    "        optimizer.step() #각 파라미터에 할당된 gradient 값을 이용해 파라미터 값 업데이트\n",
    "        \n",
    "        if batch_idx % log_interval == 0:\n",
    "            print('Train Epoch: {} [{}/{}({:.0f}%)]\\tTrain Loss: {:.6f}'.format(\n",
    "                    Epoch, batch_idx * len(image),\n",
    "                    len(train_loader.dataset), 100. * batch_idx / len(train_loader),\n",
    "                    loss.item()))"
   ]
  },
  {
   "cell_type": "code",
   "execution_count": 13,
   "metadata": {},
   "outputs": [],
   "source": [
    "#학습 과정 중 검증 데이터에 대한 모델 성능을 확인하는 함수\n",
    "def evaluate(model, test_loader):\n",
    "    model.eval() #mlp 모델을 평가 상태로 지정\n",
    "    test_loss = 0\n",
    "    correct = 0\n",
    "    \n",
    "    with torch.no_grad(): #평가 단계에서는 gradient를 통해 파라미터의 값 갱신 방지\n",
    "        for image, label in test_loader: \n",
    "            image = image.to(DEVICE)\n",
    "            label = label.to(DEVICE)\n",
    "            output = model(image)\n",
    "            test_loss += criterion(output, label).item()\n",
    "            prediction = output.max(1, keepdim=True)[1] #계산된 벡터 내 값 중 가장 큰 값에 대해 해당 클래스로 예측했다고 판단\n",
    "            correct += prediction.eq(label.view_as(prediction)).sum().item() #예측 클래스 값과 실제 레이블의 클래스가 일치하면 예측 횟수 저장\n",
    "        \n",
    "    test_loss /= len(test_loader.dataset)\n",
    "    test_accuracy = 100. * correct / len(test_loader.dataset)\n",
    "    return test_loss, test_accuracy"
   ]
  },
  {
   "cell_type": "code",
   "execution_count": 14,
   "metadata": {},
   "outputs": [
    {
     "name": "stderr",
     "output_type": "stream",
     "text": [
      "/Users/rbk/opt/anaconda3/lib/python3.8/site-packages/torch/nn/functional.py:1625: UserWarning: nn.functional.sigmoid is deprecated. Use torch.sigmoid instead.\n",
      "  warnings.warn(\"nn.functional.sigmoid is deprecated. Use torch.sigmoid instead.\")\n"
     ]
    },
    {
     "name": "stdout",
     "output_type": "stream",
     "text": [
      "Train Epoch: 1 [0/60000(0%)]\tTrain Loss: 2.346227\n",
      "Train Epoch: 1 [6400/60000(11%)]\tTrain Loss: 2.284641\n",
      "Train Epoch: 1 [12800/60000(21%)]\tTrain Loss: 2.291227\n",
      "Train Epoch: 1 [19200/60000(32%)]\tTrain Loss: 2.273029\n",
      "Train Epoch: 1 [25600/60000(43%)]\tTrain Loss: 2.310088\n",
      "Train Epoch: 1 [32000/60000(53%)]\tTrain Loss: 2.273258\n",
      "Train Epoch: 1 [38400/60000(64%)]\tTrain Loss: 2.303827\n",
      "Train Epoch: 1 [44800/60000(75%)]\tTrain Loss: 2.266889\n",
      "Train Epoch: 1 [51200/60000(85%)]\tTrain Loss: 2.296251\n",
      "Train Epoch: 1 [57600/60000(96%)]\tTrain Loss: 2.203196\n",
      "\n",
      "[EPOCH: 1], \tTest Loss: 0.0696, \tTest Accuracy: 16.19 %\n",
      "\n",
      "Train Epoch: 2 [0/60000(0%)]\tTrain Loss: 2.228896\n",
      "Train Epoch: 2 [6400/60000(11%)]\tTrain Loss: 2.223995\n",
      "Train Epoch: 2 [12800/60000(21%)]\tTrain Loss: 2.087426\n",
      "Train Epoch: 2 [19200/60000(32%)]\tTrain Loss: 2.133682\n",
      "Train Epoch: 2 [25600/60000(43%)]\tTrain Loss: 1.890655\n",
      "Train Epoch: 2 [32000/60000(53%)]\tTrain Loss: 1.742697\n",
      "Train Epoch: 2 [38400/60000(64%)]\tTrain Loss: 1.511252\n",
      "Train Epoch: 2 [44800/60000(75%)]\tTrain Loss: 1.526118\n",
      "Train Epoch: 2 [51200/60000(85%)]\tTrain Loss: 1.230573\n",
      "Train Epoch: 2 [57600/60000(96%)]\tTrain Loss: 1.421085\n",
      "\n",
      "[EPOCH: 2], \tTest Loss: 0.0384, \tTest Accuracy: 62.48 %\n",
      "\n",
      "Train Epoch: 3 [0/60000(0%)]\tTrain Loss: 1.114710\n",
      "Train Epoch: 3 [6400/60000(11%)]\tTrain Loss: 1.034638\n",
      "Train Epoch: 3 [12800/60000(21%)]\tTrain Loss: 1.041075\n",
      "Train Epoch: 3 [19200/60000(32%)]\tTrain Loss: 0.991104\n",
      "Train Epoch: 3 [25600/60000(43%)]\tTrain Loss: 1.077295\n",
      "Train Epoch: 3 [32000/60000(53%)]\tTrain Loss: 0.919320\n",
      "Train Epoch: 3 [38400/60000(64%)]\tTrain Loss: 0.882080\n",
      "Train Epoch: 3 [44800/60000(75%)]\tTrain Loss: 0.839656\n",
      "Train Epoch: 3 [51200/60000(85%)]\tTrain Loss: 1.036282\n",
      "Train Epoch: 3 [57600/60000(96%)]\tTrain Loss: 0.722714\n",
      "\n",
      "[EPOCH: 3], \tTest Loss: 0.0233, \tTest Accuracy: 76.93 %\n",
      "\n",
      "Train Epoch: 4 [0/60000(0%)]\tTrain Loss: 0.650433\n",
      "Train Epoch: 4 [6400/60000(11%)]\tTrain Loss: 0.751909\n",
      "Train Epoch: 4 [12800/60000(21%)]\tTrain Loss: 0.677320\n",
      "Train Epoch: 4 [19200/60000(32%)]\tTrain Loss: 0.706204\n",
      "Train Epoch: 4 [25600/60000(43%)]\tTrain Loss: 0.909663\n",
      "Train Epoch: 4 [32000/60000(53%)]\tTrain Loss: 0.667109\n",
      "Train Epoch: 4 [38400/60000(64%)]\tTrain Loss: 0.642168\n",
      "Train Epoch: 4 [44800/60000(75%)]\tTrain Loss: 0.585128\n",
      "Train Epoch: 4 [51200/60000(85%)]\tTrain Loss: 0.659360\n",
      "Train Epoch: 4 [57600/60000(96%)]\tTrain Loss: 0.596960\n",
      "\n",
      "[EPOCH: 4], \tTest Loss: 0.0172, \tTest Accuracy: 84.42 %\n",
      "\n",
      "Train Epoch: 5 [0/60000(0%)]\tTrain Loss: 0.526747\n",
      "Train Epoch: 5 [6400/60000(11%)]\tTrain Loss: 0.383367\n",
      "Train Epoch: 5 [12800/60000(21%)]\tTrain Loss: 0.546393\n",
      "Train Epoch: 5 [19200/60000(32%)]\tTrain Loss: 0.300303\n",
      "Train Epoch: 5 [25600/60000(43%)]\tTrain Loss: 0.494547\n",
      "Train Epoch: 5 [32000/60000(53%)]\tTrain Loss: 0.740214\n",
      "Train Epoch: 5 [38400/60000(64%)]\tTrain Loss: 0.433740\n",
      "Train Epoch: 5 [44800/60000(75%)]\tTrain Loss: 0.507944\n",
      "Train Epoch: 5 [51200/60000(85%)]\tTrain Loss: 0.628753\n",
      "Train Epoch: 5 [57600/60000(96%)]\tTrain Loss: 0.394825\n",
      "\n",
      "[EPOCH: 5], \tTest Loss: 0.0142, \tTest Accuracy: 86.91 %\n",
      "\n",
      "Train Epoch: 6 [0/60000(0%)]\tTrain Loss: 0.666140\n",
      "Train Epoch: 6 [6400/60000(11%)]\tTrain Loss: 0.407317\n",
      "Train Epoch: 6 [12800/60000(21%)]\tTrain Loss: 0.760905\n",
      "Train Epoch: 6 [19200/60000(32%)]\tTrain Loss: 0.473696\n",
      "Train Epoch: 6 [25600/60000(43%)]\tTrain Loss: 0.337600\n",
      "Train Epoch: 6 [32000/60000(53%)]\tTrain Loss: 0.349082\n",
      "Train Epoch: 6 [38400/60000(64%)]\tTrain Loss: 0.408848\n",
      "Train Epoch: 6 [44800/60000(75%)]\tTrain Loss: 0.805988\n",
      "Train Epoch: 6 [51200/60000(85%)]\tTrain Loss: 0.386510\n",
      "Train Epoch: 6 [57600/60000(96%)]\tTrain Loss: 0.455207\n",
      "\n",
      "[EPOCH: 6], \tTest Loss: 0.0127, \tTest Accuracy: 88.42 %\n",
      "\n",
      "Train Epoch: 7 [0/60000(0%)]\tTrain Loss: 0.334517\n",
      "Train Epoch: 7 [6400/60000(11%)]\tTrain Loss: 0.516990\n",
      "Train Epoch: 7 [12800/60000(21%)]\tTrain Loss: 0.782504\n",
      "Train Epoch: 7 [19200/60000(32%)]\tTrain Loss: 0.394953\n",
      "Train Epoch: 7 [25600/60000(43%)]\tTrain Loss: 0.534384\n",
      "Train Epoch: 7 [32000/60000(53%)]\tTrain Loss: 0.245321\n",
      "Train Epoch: 7 [38400/60000(64%)]\tTrain Loss: 0.342858\n",
      "Train Epoch: 7 [44800/60000(75%)]\tTrain Loss: 0.319911\n",
      "Train Epoch: 7 [51200/60000(85%)]\tTrain Loss: 0.413275\n",
      "Train Epoch: 7 [57600/60000(96%)]\tTrain Loss: 0.445918\n",
      "\n",
      "[EPOCH: 7], \tTest Loss: 0.0119, \tTest Accuracy: 89.12 %\n",
      "\n",
      "Train Epoch: 8 [0/60000(0%)]\tTrain Loss: 0.335807\n",
      "Train Epoch: 8 [6400/60000(11%)]\tTrain Loss: 0.427471\n",
      "Train Epoch: 8 [12800/60000(21%)]\tTrain Loss: 0.747851\n",
      "Train Epoch: 8 [19200/60000(32%)]\tTrain Loss: 0.112647\n",
      "Train Epoch: 8 [25600/60000(43%)]\tTrain Loss: 0.661646\n",
      "Train Epoch: 8 [32000/60000(53%)]\tTrain Loss: 0.337656\n",
      "Train Epoch: 8 [38400/60000(64%)]\tTrain Loss: 0.358084\n",
      "Train Epoch: 8 [44800/60000(75%)]\tTrain Loss: 0.207975\n",
      "Train Epoch: 8 [51200/60000(85%)]\tTrain Loss: 0.237926\n",
      "Train Epoch: 8 [57600/60000(96%)]\tTrain Loss: 0.342905\n",
      "\n",
      "[EPOCH: 8], \tTest Loss: 0.0112, \tTest Accuracy: 89.61 %\n",
      "\n",
      "Train Epoch: 9 [0/60000(0%)]\tTrain Loss: 0.183744\n",
      "Train Epoch: 9 [6400/60000(11%)]\tTrain Loss: 0.315550\n",
      "Train Epoch: 9 [12800/60000(21%)]\tTrain Loss: 0.276209\n",
      "Train Epoch: 9 [19200/60000(32%)]\tTrain Loss: 0.556734\n",
      "Train Epoch: 9 [25600/60000(43%)]\tTrain Loss: 0.256781\n",
      "Train Epoch: 9 [32000/60000(53%)]\tTrain Loss: 0.661318\n",
      "Train Epoch: 9 [38400/60000(64%)]\tTrain Loss: 0.473922\n",
      "Train Epoch: 9 [44800/60000(75%)]\tTrain Loss: 0.280996\n",
      "Train Epoch: 9 [51200/60000(85%)]\tTrain Loss: 0.353036\n",
      "Train Epoch: 9 [57600/60000(96%)]\tTrain Loss: 0.533240\n",
      "\n",
      "[EPOCH: 9], \tTest Loss: 0.0108, \tTest Accuracy: 90.02 %\n",
      "\n",
      "Train Epoch: 10 [0/60000(0%)]\tTrain Loss: 0.328857\n",
      "Train Epoch: 10 [6400/60000(11%)]\tTrain Loss: 0.115344\n",
      "Train Epoch: 10 [12800/60000(21%)]\tTrain Loss: 0.339052\n",
      "Train Epoch: 10 [19200/60000(32%)]\tTrain Loss: 0.339548\n",
      "Train Epoch: 10 [25600/60000(43%)]\tTrain Loss: 0.356771\n",
      "Train Epoch: 10 [32000/60000(53%)]\tTrain Loss: 0.226968\n",
      "Train Epoch: 10 [38400/60000(64%)]\tTrain Loss: 0.218399\n",
      "Train Epoch: 10 [44800/60000(75%)]\tTrain Loss: 0.315231\n",
      "Train Epoch: 10 [51200/60000(85%)]\tTrain Loss: 0.262390\n",
      "Train Epoch: 10 [57600/60000(96%)]\tTrain Loss: 0.224835\n",
      "\n",
      "[EPOCH: 10], \tTest Loss: 0.0105, \tTest Accuracy: 90.39 %\n",
      "\n"
     ]
    }
   ],
   "source": [
    "#mlp 학습을 실행하면서 train, test set의 loss 및 test set accuracy를 확인\n",
    "for Epoch in range(1, EPOCHS + 1):\n",
    "    train(model, train_loader, optimizer, log_interval = 200)\n",
    "    test_loss, test_accuracy = evaluate(model, test_loader)\n",
    "    print('\\n[EPOCH: {}], \\tTest Loss: {:.4f}, \\tTest Accuracy: {:.2f} %\\n'.\n",
    "         format(Epoch, test_loss, test_accuracy))"
   ]
  },
  {
   "cell_type": "code",
   "execution_count": null,
   "metadata": {},
   "outputs": [],
   "source": []
  }
 ],
 "metadata": {
  "kernelspec": {
   "display_name": "Python 3",
   "language": "python",
   "name": "python3"
  },
  "language_info": {
   "codemirror_mode": {
    "name": "ipython",
    "version": 3
   },
   "file_extension": ".py",
   "mimetype": "text/x-python",
   "name": "python",
   "nbconvert_exporter": "python",
   "pygments_lexer": "ipython3",
   "version": "3.8.5"
  }
 },
 "nbformat": 4,
 "nbformat_minor": 4
}
